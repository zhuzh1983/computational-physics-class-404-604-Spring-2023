{
 "cells": [
  {
   "cell_type": "markdown",
   "metadata": {},
   "source": [
    "# Physics 404/604\n",
    "\n",
    "## Computational Physics                   |\n",
    "\n"
   ]
  },
  {
   "cell_type": "code",
   "execution_count": 1,
   "metadata": {},
   "outputs": [],
   "source": [
    "# Homework: using Newton-Raphson method to solve above equation arrays\n",
    "# Hint: first you need to derive the partical derivative of the equation arrays. You can do it either \n",
    "# analytically by hand or numerically using method we learned in the last lecture."
   ]
  },
  {
   "cell_type": "code",
   "execution_count": 2,
   "metadata": {},
   "outputs": [],
   "source": [
    "from sympy import *\n",
    "import numpy as np\n",
    "import matplotlib.pyplot as plt\n",
    "import matplotlib as mpl\n",
    "import matplotlib.ticker as tck\n",
    "\n",
    "import time\n",
    "import math"
   ]
  },
  {
   "cell_type": "code",
   "execution_count": 3,
   "metadata": {},
   "outputs": [],
   "source": [
    "mpl.rcParams['font.family'] = 'Times New Roman'\n",
    "mpl.rcParams['axes.titlesize'] = 32\n",
    "mpl.rcParams['axes.labelsize'] = 30\n",
    "mpl.rcParams['lines.linewidth'] = 2\n",
    "mpl.rcParams['lines.markersize'] = 10\n",
    "mpl.rcParams['xtick.labelsize'] = 27\n",
    "mpl.rcParams['ytick.labelsize'] = 27\n",
    "\n",
    "mpl.rcParams['xtick.major.size'] = 18 #+2 from previous\n",
    "mpl.rcParams['xtick.minor.size'] = 12 #+4 from previous\n",
    "mpl.rcParams['ytick.major.size'] = 18 #+4 from previous\n",
    "mpl.rcParams['ytick.minor.size'] = 12 #+4 from previous\n",
    "\n",
    "mpl.rcParams['axes.grid.which'] = 'major'\n",
    "mpl.rcParams['axes.grid'] = True\n",
    "mpl.rcParams['grid.alpha'] = 0.5\n",
    "mpl.rcParams['axes.grid.which'] = 'minor'\n",
    "mpl.rcParams['axes.grid'] = True\n",
    "mpl.rcParams['grid.alpha'] = 0.5\n",
    "\n",
    "mpl.rcParams['legend.fontsize'] = 22\n",
    "\n",
    "mpl.rc('text', usetex=True)\n",
    "mpl.rcParams['text.latex.preamble']=[r\"\\usepackage{amsmath}\"]\n",
    "\n",
    "np.set_printoptions(precision=3)"
   ]
  },
  {
   "cell_type": "code",
   "execution_count": 4,
   "metadata": {},
   "outputs": [
    {
     "name": "stdout",
     "output_type": "stream",
     "text": [
      "Total iterations taken = 15\n",
      "x_1 = 2.000\n",
      "x_2 = 3.000\n"
     ]
    }
   ],
   "source": [
    "\"\"\"Defining functions and their derivatives using central difference.\"\"\"\n",
    "\n",
    "\n",
    "\"\"\"Equations: Function 1 and Function 2\"\"\"\n",
    "def f1(x1,x2):\n",
    "    return (x1*x1+x1*x2-10.)\n",
    "\n",
    "def f2(x1,x2):\n",
    "    return (x2+3*x1*x2*x2-57)\n",
    "\n",
    "\n",
    "\"\"\"Derivatives of f1 and f2\"\"\"\n",
    "\n",
    "\"a\"\n",
    "def f1x1(x1,x2):\n",
    "    h = 10**-4\n",
    "    c1 = f1(x1+h/2,x2)\n",
    "    c2 = f1(x1-h/2,x2)\n",
    "    return (c1 - c2)/h\n",
    "    \n",
    "\"b\"\n",
    "def f1x2(x1,x2):\n",
    "    h = 10**-4\n",
    "    c1 = f1(x1,x2+h/2)\n",
    "    c2 = f1(x1,x2-h/2)\n",
    "    return (c1 - c2)/h\n",
    "\n",
    "\"c\"\n",
    "def f2x1(x1,x2):\n",
    "    h = 10**-4\n",
    "    c1 = f2(x1+h/2,x2)\n",
    "    c2 = f2(x1-h/2,x2)\n",
    "    return (c1 - c2)/h\n",
    "\n",
    "\"d\"\n",
    "def f2x2(x1,x2):\n",
    "    h = 10**-4\n",
    "    c1 = f2(x1,x2+h/2)\n",
    "    c2 = f2(x1,x2-h/2)\n",
    "    return (c1 - c2)/h\n",
    "\n",
    "\n",
    "\"\"\"Solutions for delta x1 and delta x2\"\"\"\n",
    "def dx1(f1,f2,f1x1,f1x2,f2x1,f2x2,x1,x2):\n",
    "    return ( f1x2(x1,x2)*f2(x1,x2) - f2x2(x1,x2)*f1(x1,x2) )/( f1x1(x1,x2)*f2x2(x1,x2) - f1x2(x1,x2)*f2x1(x1,x2) )\n",
    "\n",
    "def dx2(f1,f2,f1x1,f1x2,f2x1,f2x2,x1,x2):\n",
    "    return ( f2x1(x1,x2)*f1(x1,x2) - f1x1(x1,x2)*f2(x1,x2) )/( f1x1(x1,x2)*f2x2(x1,x2) - f1x2(x1,x2)*f2x1(x1,x2) )\n",
    "    \n",
    "\"\"\"Initial gues for x1 and x2\"\"\"\n",
    "x1 = 2.0\n",
    "x2 = 10000.0\n",
    "\n",
    "\"\"\"Tolerance\"\"\"\n",
    "eps = 10.**-8\n",
    "\n",
    "for ix in range(100):\n",
    "    x1 = x1 + dx1(f1,f2,f1x1,f1x2,f2x1,f2x2,x1,x2)\n",
    "    x2 = x2 + dx2(f1,f2,f1x1,f1x2,f2x1,f2x2,x1,x2)\n",
    "    \n",
    "    if f1(x1,x2)<eps and f2(x1,x2)<eps:\n",
    "        break\n",
    "\n",
    "print(r\"Total iterations taken = {}\".format(ix))\n",
    "print(r\"x_1 = {:.3f}\".format(x1))\n",
    "print(r\"x_2 = {:.3f}\".format(x2))"
   ]
  },
  {
   "cell_type": "code",
   "execution_count": null,
   "metadata": {},
   "outputs": [],
   "source": []
  },
  {
   "cell_type": "code",
   "execution_count": null,
   "metadata": {},
   "outputs": [],
   "source": []
  },
  {
   "cell_type": "code",
   "execution_count": null,
   "metadata": {},
   "outputs": [],
   "source": []
  }
 ],
 "metadata": {
  "kernelspec": {
   "display_name": "Python 3",
   "language": "python",
   "name": "python3"
  },
  "language_info": {
   "codemirror_mode": {
    "name": "ipython",
    "version": 3
   },
   "file_extension": ".py",
   "mimetype": "text/x-python",
   "name": "python",
   "nbconvert_exporter": "python",
   "pygments_lexer": "ipython3",
   "version": "3.8.3"
  }
 },
 "nbformat": 4,
 "nbformat_minor": 2
}
