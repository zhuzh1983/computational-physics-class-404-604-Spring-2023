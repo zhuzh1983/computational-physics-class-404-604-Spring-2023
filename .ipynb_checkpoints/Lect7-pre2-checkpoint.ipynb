{
 "cells": [
  {
   "cell_type": "markdown",
   "metadata": {},
   "source": [
    "# ODE: more examples\n",
    "From \n",
    "https://www.kau.edu.sa/Files/0060757/Subjects/Numerical%20Solution%20of%20Differential%20Equations.pdf"
   ]
  },
  {
   "cell_type": "markdown",
   "metadata": {},
   "source": [
    "## 1. Chemical reactions\n",
    "\n",
    "Suppose the following chemical reactions taking place\n",
    "\n",
    "A->B with reaction rate 1/min\n",
    "\n",
    "B->A with reaction rate 0/min\n",
    "\n",
    "B->C with reaction rate 2/min\n",
    "\n",
    "C->B with reaction rate 3/min\n",
    "\n",
    "Initiall we only have A with abundance $C_{A}=$1.\n",
    "Solve the system of ODEs for time up to 0.13 min with time internval of 0.01 min.\n",
    "\n",
    "Solution:\n",
    "\\begin{eqnarray}\n",
    "d C_A/dt &=& -C_A\\\\\n",
    "d C_B/dt &=& C_A-2C_B+3C_C\\\\\n",
    "d C_C/dt &=& 2C_B-3C_C\\,.\n",
    "\\end{eqnarray}"
   ]
  },
  {
   "cell_type": "code",
   "execution_count": 15,
   "metadata": {},
   "outputs": [
    {
     "data": {
      "image/png": "[encoded data removed]",
      "text/plain": [
       "<Figure size 432x288 with 1 Axes>"
      ]
     },
     "metadata": {},
     "output_type": "display_data"
    }
   ],
   "source": [
    "import numpy as np\n",
    "import matplotlib.pyplot as plt\n",
    "\n",
    "\n",
    "tend=0.13\n",
    "h=0.01\n",
    "y=[1.,0.,0.]\n",
    "t=0\n",
    "\n",
    "def f(t, y):\n",
    "    f=np.zeros(3)\n",
    "    # please finish f[0], f[1], f[2]\n",
    "    return f\n",
    "    \n",
    "def rk4(t, h, y, n):\n",
    "    k1 = np.zeros(n)\n",
    "    k2 = np.zeros(n)\n",
    "    k3 = np.zeros(n)\n",
    "    k4 = np.zeros(n)\n",
    "    k1=h*f(t,y)\n",
    "    k2=h*f(t+0.5*h,y+0.5*k1)\n",
    "    k3=h*f(t+0.5*h,y+0.5*k2)\n",
    "    k4=h*f(t+h,y+k3)\n",
    "    y+=1./6.*(k1+2*k2+2*k3+k4)\n",
    "    return y\n",
    "\n",
    "tp=[]\n",
    "y0p=[]\n",
    "y1p=[]\n",
    "y2p=[]\n",
    "while(t<tend):\n",
    "    if((t+h)>tend):\n",
    "        h=tend-t\n",
    "    y = rk4(...) # please fill in rk4 parameters\n",
    "    y0p=np.append(y0p,y[0])\n",
    "    y1p=np.append(y1p,y[1])\n",
    "    y2p=np.append(y2p,y[2])\n",
    "    t = t+h\n",
    "    tp=np.append(tp,t)\n",
    "\n",
    "plt.plot(tp,y0p)\n",
    "plt.plot(tp,y1p)\n",
    "plt.plot(tp,y2p)\n",
    "plt.show()"
   ]
  },
  {
   "cell_type": "markdown",
   "metadata": {},
   "source": [
    "## 2. higher order ODE\n",
    "\n",
    "Please solve the following ODE\n",
    "\\begin{equation}\n",
    "\\frac{d^2x}{dt^2}+\\frac{dx}{dt}+x=1\n",
    "\\end{equation}\n",
    "with x(0)=0,x'(0)=1. Using h=0.1 for t up to 2"
   ]
  },
  {
   "cell_type": "markdown",
   "metadata": {},
   "source": [
    "\\begin{eqnarray}\n",
    "dx/dt&=&v\\\\\n",
    "dv/dt&=&1-x-v\\,\n",
    "\\end{eqnarray}"
   ]
  },
  {
   "cell_type": "markdown",
   "metadata": {},
   "source": [
    "x-> y[0], v -> y[1]\n",
    "\\begin{eqnarray}\n",
    "dy[0]/dt&=&y[1]\\\\\n",
    "dy[1]/dt&=&1-y[0]-y[1]\\,,\n",
    "\\end{eqnarray}"
   ]
  },
  {
   "cell_type": "code",
   "execution_count": 18,
   "metadata": {},
   "outputs": [
    {
     "data": {
      "image/png": "[encoded data removed]",
      "text/plain": [
       "<Figure size 432x288 with 1 Axes>"
      ]
     },
     "metadata": {},
     "output_type": "display_data"
    }
   ],
   "source": [
    "import numpy as np\n",
    "import matplotlib.pyplot as plt\n",
    "\n",
    "#please finish initial condition\n",
    "tend=#\n",
    "h=#\n",
    "y=# \n",
    "t=0\n",
    "\n",
    "def f(t, y):\n",
    "    f=np.zeros(2)\n",
    "    # please finish f[0], f[1]\n",
    "    return f\n",
    "    \n",
    "def rk4(t, h, y, n):\n",
    "    k1 = np.zeros(n)\n",
    "    k2 = np.zeros(n)\n",
    "    k3 = np.zeros(n)\n",
    "    k4 = np.zeros(n)\n",
    "    k1=h*f(t,y)\n",
    "    k2=h*f(t+0.5*h,y+0.5*k1)\n",
    "    k3=h*f(t+0.5*h,y+0.5*k2)\n",
    "    k4=h*f(t+h,y+k3)\n",
    "    y+=1./6.*(k1+2*k2+2*k3+k4)\n",
    "    return y\n",
    "\n",
    "tp=[]\n",
    "y0p=[]\n",
    "\n",
    "while(t<tend):\n",
    "    if((t+h)>tend):\n",
    "        h=tend-t\n",
    "    y = rk4(t,h,y,2)\n",
    "    y0p=np.append(y0p,y[0])\n",
    "    t = t+h\n",
    "    tp=np.append(tp,t)\n",
    "\n",
    "plt.plot(tp,y0p)\n",
    "plt.show()"
   ]
  },
  {
   "cell_type": "markdown",
   "metadata": {},
   "source": [
    "# Stability of ODE"
   ]
  },
  {
   "cell_type": "markdown",
   "metadata": {},
   "source": [
    "Use Forward Euler methods to solve a nuclear decay equation \n",
    "\\begin{equation}\n",
    "dy/dt=-101*y+1\n",
    "\\end{equation}\n",
    "Try dt=1.e-4,1.e-3,1.e-2, 1.e-1 until t=1 and plot the results with different dt but the same method in the same plot.\n",
    "\n",
    "hint: Forward Euler, $y_{n+1}-y_{n}=(-101*y_{n}+1)*h$\n"
   ]
  },
  {
   "cell_type": "code",
   "execution_count": 3,
   "metadata": {},
   "outputs": [
    {
     "name": "stderr",
     "output_type": "stream",
     "text": [
      "/Users/zhzhu/miniconda3/lib/python3.6/site-packages/ipykernel/__main__.py:27: RuntimeWarning: divide by zero encountered in log10\n"
     ]
    },
    {
     "data": {
      "image/png": "[encoded data removed]",
      "text/plain": [
       "<Figure size 432x288 with 1 Axes>"
      ]
     },
     "metadata": {},
     "output_type": "display_data"
    }
   ],
   "source": [
    "import numpy as np\n",
    "import matplotlib.pyplot as plt\n",
    "\n",
    "\n",
    "    \n",
    "def eu(t, h, y):\n",
    "    y+=  # please finish forward euler method\n",
    "    return y    \n",
    "\n",
    "tend=1.\n",
    "\n",
    "\n",
    "for h in [1.e-4,1.e-3,1.e-2,1.e-1]:\n",
    "    y=1.0\n",
    "    t=0\n",
    "    tp=[]\n",
    "    y0p=[]\n",
    "\n",
    "    while(t<tend):\n",
    "        if((t+h)>tend):\n",
    "            h=tend-t\n",
    "        y = eu(t,h,y)\n",
    "        y0p=np.append(y0p,y)\n",
    "        t = t+h\n",
    "        tp=np.append(tp,t)\n",
    "\n",
    "    plt.plot(np.log10(tp),np.log10(np.abs(y0p)))\n",
    "    \n",
    "plt.xlabel('log10(t)')\n",
    "plt.show()"
   ]
  },
  {
   "cell_type": "code",
   "execution_count": 62,
   "metadata": {},
   "outputs": [
    {
     "data": {
      "image/png": "[encoded data removed]",
      "text/plain": [
       "<Figure size 432x288 with 1 Axes>"
      ]
     },
     "metadata": {},
     "output_type": "display_data"
    }
   ],
   "source": [
    "#Please use backward Euler method, y_{n+1}-y_{n}=(-101*y_{n+1}+1)*h\n",
    "\n",
    "import numpy as np\n",
    "import matplotlib.pyplot as plt\n",
    "\n",
    "\n",
    "\n",
    "\n",
    "    \n",
    "def eu(t, h, y):\n",
    "    y=# please finish backward euler method\n",
    "    return y    \n",
    "\n",
    "tend=1.\n",
    "\n",
    "\n",
    "for h in [1.e-4,1.e-3,1.e-2,1.e-1]:\n",
    "    y=1.0\n",
    "    t=0\n",
    "    tp=[]\n",
    "    y0p=[]\n",
    "\n",
    "    while(t<tend):\n",
    "        if((t+h)>tend):\n",
    "            h=tend-t\n",
    "        y = eu(t,h,y)\n",
    "        y0p=np.append(y0p,y)\n",
    "        t = t+h\n",
    "        tp=np.append(tp,t)\n",
    "\n",
    "    plt.plot(np.log10(tp),np.log10(np.abs(y0p)))\n",
    "    \n",
    "plt.xlabel('log10(t)')\n",
    "plt.show()"
   ]
  },
  {
   "cell_type": "code",
   "execution_count": null,
   "metadata": {},
   "outputs": [],
   "source": [
    "# Homework\n",
    "\n",
    "# Undergraduate student:\n",
    "# A person throws a ball upwards at a speed of 10 m/s, please calculate the trajectory using Runge-Kutta method\n",
    "# and plot height (z) vs time (t).\n",
    "\n",
    "\n",
    "#Graduate student:\n",
    "# Write your own Runge-Kutta scheme to calculate the orbit of two equal mass binary.\n",
    "# The mass of each binary makes GM_{i}=1, (i is 1 or 2). The two binary stars are\n",
    "# seperated by a distance of 1 initially. Initialize the binary velocity so that\n",
    "# each binary star will have an eccentricity of 0. Evolve this system to 100\n",
    "# binary orbits, and plot their orbits in the x-y plane. "
   ]
  }
 ],
 "metadata": {
  "kernelspec": {
   "display_name": "Python 3",
   "language": "python",
   "name": "python3"
  },
  "language_info": {
   "codemirror_mode": {
    "name": "ipython",
    "version": 3
   },
   "file_extension": ".py",
   "mimetype": "text/x-python",
   "name": "python",
   "nbconvert_exporter": "python",
   "pygments_lexer": "ipython3",
   "version": "3.8.3"
  }
 },
 "nbformat": 4,
 "nbformat_minor": 2
}
