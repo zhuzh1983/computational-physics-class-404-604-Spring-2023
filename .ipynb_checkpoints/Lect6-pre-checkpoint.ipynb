{
 "cells": [
  {
   "cell_type": "markdown",
   "metadata": {},
   "source": [
    "# Physics 404/604\n",
    "\n",
    "## Computational Physics "
   ]
  },
  {
   "cell_type": "markdown",
   "metadata": {},
   "source": [
    "# Matrix Computing\n",
    "\n",
    "## Two masses on a string problem:\n",
    "\n",
    "The problem is from the textbook \"COMPUTATIONAL PHYSICS\", 3rd Ed, by RH Landau, MJ Paez, and CC Bordeianu\n",
    "\n",
    "Very hard to solve analytically.\n",
    "\n",
    "Write down the equations, and we have 9 variables (treat sin, cos as variables), and 9 nonlinear equations.\n",
    "\n",
    "\\begin{equation}\n",
    "f_{i}(x_{1},x_{2},...,x_{N})=0, \\qquad i=1,2,....,N\n",
    "\\end{equation}\n",
    "\n",
    "\\begin{equation}\n",
    "f(y)=\\left[ \\begin{array}{c} f_{1}(\\bf{y}) \\\\ f_{2}(\\bf{y}) \\\\ f_{3}(\\bf{y}) \\\\ f_{4}(\\bf{y}) \\\\ f_{5}(\\bf{y}) \\\\ f_{6}(\\bf{y}) \\\\ f_{7}(\\bf{y}) \\\\ f_{8}(\\bf{y}) \\\\ f_{9}(\\bf{y}) \\end{array}\\right] = \\left[ \\begin{array}{c} 3x_{4}+4 x_{5} +4 x_{6} - 8 \\\\ 3 x_{1}+4 x_{2} -4 x_{3} \\\\ x_{7}x_{1} - x_{8} x_{2} -10 \\\\ x_{7}x_{4} - x_{8} x_{5} \\\\ x_{8}x_{2} + x_{9}x_{3} -20 \\\\ x_{8}x_{5}-x_{9}x_{6} \\\\ x_{1}^2+x_{4}^2-1 \\\\ x_{2}^2+x_{5}^2-1 \\\\ x_{3}^2+x_{6}^2-1 \\end{array}\\right] =0 \n",
    "\\end{equation}\n",
    "\n",
    "Make a guess ($x_{1},...x_{9}$), and then correct it ($\\Delta x_{1},...,\\Delta x_{9}$), we have\n",
    "\\begin{equation}\n",
    "f_{i}(x_{1}+\\Delta x_{1}, x_{2}+\\Delta x_{2}, ..., x_{9}+\\Delta x_{9})=0 \\qquad, i=1,...,9\n",
    "\\end{equation}\n",
    "We can expand it using Taylor series\n",
    "\\begin{equation}\n",
    "f_{i}(x_{1}+\\Delta x_{1}, x_{2}+\\Delta x_{2}, ..., x_{9}+\\Delta x_{9})\\simeq f_{i}(x_{1},...,x_{9})+\\sum_{j=1}^{9}\\frac{\\partial f_{i}}{\\partial x_{j}}\\Delta x_{j}=0 \\qquad i=1,...,9\n",
    "\\end{equation}\n",
    "\n",
    "\\begin{equation}\n",
    "\\left[ \\begin{array}{c} f_{1}\\\\ f_{2}\\\\ \\ddots \\\\ f_{9} \\end{array}\\right] + \\begin{bmatrix} \\partial f_{1}/\\partial x_{1} & \\partial f_{1}/\\partial x_{2} & ... & \\partial f_{1}/\\partial x_{9} \\\\ \\partial f_{2}/\\partial x_{1} & \\partial f_{2}/\\partial x_{2} & ... & \\partial f_{2}/\\partial x_{9} \\\\ \\ddots \\\\ \\partial f_{9}/\\partial x_{1} & \\partial f_{9}/\\partial x_{2} & ... & \\partial f_{9}/\\partial x_{9}\\end{bmatrix}\\left[ \\begin{array}{c} \\Delta x_{1} \\\\ \\Delta x_{2} \\\\ \\ddots \\\\ \\Delta x_{9} \\end{array}\\right] =0 \n",
    "\\end{equation}\n",
    "\n",
    "So we want to solve the matrix equation\n",
    "\\begin{equation}\n",
    "F'\\Delta {\\bf{x}}=-\\bf{f}\n",
    "\\end{equation}\n",
    "Here we use bold font for a vector, the captal letter to represent a matrix"
   ]
  },
  {
   "cell_type": "markdown",
   "metadata": {},
   "source": [
    "# Matrix Computing\n",
    "\n",
    "Matrix computing is used extensively in physics, engineering, math, ...\n",
    "\n",
    "## 1) Solve a system of linear equations\n",
    "\n",
    "\\begin{eqnarray}\n",
    "9x_{1}+13x_{2}+5x_{3}+2x_{4}=7\\\\\n",
    "x_{1}+11x_{2}+7x_{3}+6x_{4}=8\\\\\n",
    "3x_{1}+7x_{2}+4x_{3}+x_{4}=9\\\\\n",
    "6x_{1}+1x_{2}+7x_{3}+10x_{4}=10\n",
    "\\end{eqnarray}\n",
    "\n",
    "We can write the equations in the matrix form\n",
    "\\begin{equation}\n",
    "\\begin{bmatrix} 9 & 13 & 5 & 2 \\\\ \n",
    "          1 & 11 & 7 & 6 \\\\ \n",
    "          3 & 7 & 4 & 1 \\\\ \n",
    "          6 & 1 & 7 & 10\\end{bmatrix} \\left[ \\begin{array}{c} x_{1} \\\\ x_{2} \\\\ x_{3} \\\\ x_{4} \\end{array}\\right] = \\left[ \\begin{array}{c} 7 \\\\ 8 \\\\ 9 \\\\ 10 \\end{array}\\right]\n",
    "\\end{equation}\n",
    "\n",
    "\n",
    "Generally, \n",
    "\\begin{equation}\n",
    "A\\bf{x}=\\bf{b}\n",
    "\\end{equation}\n",
    "where A is known N$\\times$N matrix, $\\bf{x}$ is an unknown vector of length N, and $\\bf{b}$ is a known vector of length N.\n",
    "\n",
    "Several ways to solve it:   \n",
    "* solve it directly by Gaussian elimination or lower-upper (LU) decomposition  \n",
    "* invese A and $\\bf{x}=A^{-1}\\bf{b}$\n",
    "\n"
   ]
  },
  {
   "cell_type": "markdown",
   "metadata": {},
   "source": [
    "## Prerequisite: Use arrays\n",
    "\n",
    "Be careful with arrays \n",
    "\n",
    "1) track indices \n",
    "![From textbook](http://physics.oregonstate.edu/~landaur/Books/CPbook/eBook/Notebooks/HTML/Figs/Fig6_3.png)\n",
    "Row-major order used for matrix storage in Python, C and Java : \n",
    "a[3,3] (a[row, column])is stored as a[0,0], a[0,1], a[0,2], a[1,0], a[1,1], a[1,2], a[2,0], ...\n",
    "\n",
    "2) memory usage (4D array with 100 elements in each direction)"
   ]
  },
  {
   "cell_type": "code",
   "execution_count": 1,
   "metadata": {},
   "outputs": [
    {
     "name": "stdout",
     "output_type": "stream",
     "text": [
      "[[0 2]\n",
      " [1 3]] 2\n"
     ]
    }
   ],
   "source": [
    "### we can use list to represent array\n",
    "a=[1,2,3]\n",
    "\n",
    "### but normally use Numpy package, has a lot more support for numerical arrays\n",
    "\n",
    "import numpy as np\n",
    "vector1 = np.array([1, 2, 3, 4, 5])\n",
    "matrix1 = np.array([[0,2],[1,3]])\n",
    "print(matrix1, matrix1[0,1])"
   ]
  },
  {
   "cell_type": "code",
   "execution_count": 2,
   "metadata": {},
   "outputs": [
    {
     "name": "stdout",
     "output_type": "stream",
     "text": [
      "[[0 4]\n",
      " [1 9]]\n"
     ]
    }
   ],
   "source": [
    "\n",
    "#Notice that * operation is element operation\n",
    "print(matrix1*matrix1)"
   ]
  },
  {
   "cell_type": "code",
   "execution_count": 5,
   "metadata": {},
   "outputs": [
    {
     "data": {
      "text/plain": [
       "array([ 0,  1,  2,  3,  4,  5,  6,  7,  8,  9, 10, 11])"
      ]
     },
     "execution_count": 5,
     "metadata": {},
     "output_type": "execute_result"
    }
   ],
   "source": [
    "import numpy as np\n",
    "np.arange(12)  # list of 12 ints"
   ]
  },
  {
   "cell_type": "code",
   "execution_count": 3,
   "metadata": {},
   "outputs": [
    {
     "data": {
      "text/plain": [
       "array([[ 0,  1,  2,  3],\n",
       "       [ 4,  5,  6,  7],\n",
       "       [ 8,  9, 10, 11]])"
      ]
     },
     "execution_count": 3,
     "metadata": {},
     "output_type": "execute_result"
    }
   ],
   "source": [
    "np.arange(12).reshape(3,4) # create, shape to 3x4 array (3 rows, 4 columns)"
   ]
  },
  {
   "cell_type": "code",
   "execution_count": 4,
   "metadata": {},
   "outputs": [
    {
     "data": {
      "text/plain": [
       "(3, 4)"
      ]
     },
     "execution_count": 4,
     "metadata": {},
     "output_type": "execute_result"
    }
   ],
   "source": [
    "a=np.arange(12).reshape(3,4)\n",
    "a.shape # shape "
   ]
  },
  {
   "cell_type": "code",
   "execution_count": 5,
   "metadata": {},
   "outputs": [
    {
     "data": {
      "text/plain": [
       "2"
      ]
     },
     "execution_count": 5,
     "metadata": {},
     "output_type": "execute_result"
    }
   ],
   "source": [
    "a.ndim # dimension"
   ]
  },
  {
   "cell_type": "code",
   "execution_count": 6,
   "metadata": {},
   "outputs": [
    {
     "data": {
      "text/plain": [
       "12"
      ]
     },
     "execution_count": 6,
     "metadata": {},
     "output_type": "execute_result"
    }
   ],
   "source": [
    "a.size # size of a (number of elements)"
   ]
  },
  {
   "cell_type": "code",
   "execution_count": 7,
   "metadata": {},
   "outputs": [
    {
     "data": {
      "text/plain": [
       "array([[ 0,  4,  8],\n",
       "       [ 1,  5,  9],\n",
       "       [ 2,  6, 10],\n",
       "       [ 3,  7, 11]])"
      ]
     },
     "execution_count": 7,
     "metadata": {},
     "output_type": "execute_result"
    }
   ],
   "source": [
    "a.T  # transpose method"
   ]
  },
  {
   "cell_type": "code",
   "execution_count": 8,
   "metadata": {},
   "outputs": [
    {
     "name": "stdout",
     "output_type": "stream",
     "text": [
      "[[0 1 2 3]\n",
      " [4 5 6 7]]\n",
      "[0.         0.         0.         1.         1.41421356 1.73205081\n",
      " 2.         0.         0.         0.        ]\n"
     ]
    }
   ],
   "source": [
    "# Slicing\n",
    "print(a[:2, :])  # 0:2 means 0 and 1, first two rows\n",
    "\n",
    "stuff= np.zeros(10, float) # one way to initialize an array\n",
    "t=np.arange(4)\n",
    "stuff[3:7]=np.sqrt(t+1) #notice that it can imput an array and output an array.\n",
    "print(stuff)"
   ]
  },
  {
   "cell_type": "code",
   "execution_count": 40,
   "metadata": {},
   "outputs": [
    {
     "name": "stdout",
     "output_type": "stream",
     "text": [
      "[3. 3. 3. 3. 3. 3. 3. 3. 3. 3.]\n"
     ]
    }
   ],
   "source": [
    "# initialize array with some value\n",
    "stuff= np.ones(10, float)*3.\n",
    "print(stuff)"
   ]
  },
  {
   "cell_type": "code",
   "execution_count": 10,
   "metadata": {},
   "outputs": [
    {
     "name": "stdout",
     "output_type": "stream",
     "text": [
      "[232. 218. 123. 213.]\n"
     ]
    }
   ],
   "source": [
    "# Write a program to carry out the dot product of matrix A (a_{1,1}, ...) and vector B (b_{1},...b_{4})\n",
    "# \n",
    "import numpy as np\n",
    "a=np.array([[9.,13.,5.,2.],[1.,11.,7.,6.],[3.,7.,4.,1.],[6.,1.,7.,10.]])\n",
    "b=np.array([7.,8.,9.,10.])\n",
    "c=np.zeros(4)\n",
    "\n",
    "for i in range(4):\n",
    "    for j in range(4):\n",
    "        c[i]= ## write a code for the dot product \n",
    "        \n",
    "print(c)\n",
    "## write a code for the dot product \n"
   ]
  },
  {
   "cell_type": "code",
   "execution_count": 11,
   "metadata": {},
   "outputs": [],
   "source": [
    "# exercise, 1) generate a 4x4 2-D array with elements 1,2,...16. \n",
    "# 2) Swap the row and column \n",
    "# 3) generate another 4 (row)x5 (column) 2-D array with elements 1,2,...20. \n",
    "# 4) slice the first 4 column to make it a 4x4 array\n",
    "# 5) multiply these 2 4x4 arrys together (elementwise), and print out the first row.\n"
   ]
  },
  {
   "cell_type": "markdown",
   "metadata": {},
   "source": [
    "### Several array products"
   ]
  },
  {
   "cell_type": "code",
   "execution_count": 43,
   "metadata": {},
   "outputs": [
    {
     "data": {
      "text/plain": [
       "array([232., 218., 123., 213.])"
      ]
     },
     "execution_count": 43,
     "metadata": {},
     "output_type": "execute_result"
    }
   ],
   "source": [
    "import numpy as np\n",
    "np.dot(a,b)"
   ]
  },
  {
   "cell_type": "code",
   "execution_count": 44,
   "metadata": {},
   "outputs": [
    {
     "name": "stdout",
     "output_type": "stream",
     "text": [
      "[[ 1.  3.]\n",
      " [ 3. 10.]]\n"
     ]
    }
   ],
   "source": [
    "# array can be float, complex types... \n",
    "# If you want matrix dot \n",
    "matrix1 = np.array([[0.,1.],[1.,3.]])\n",
    "print(np.dot(matrix1,matrix1))"
   ]
  },
  {
   "cell_type": "code",
   "execution_count": 45,
   "metadata": {},
   "outputs": [
    {
     "name": "stdout",
     "output_type": "stream",
     "text": [
      "[[0. 1.]\n",
      " [1. 9.]]\n"
     ]
    }
   ],
   "source": [
    "# if you want element product\n",
    "print(matrix1*matrix1)"
   ]
  },
  {
   "cell_type": "code",
   "execution_count": 46,
   "metadata": {},
   "outputs": [
    {
     "name": "stdout",
     "output_type": "stream",
     "text": [
      "[[0. 1.]\n",
      " [1. 9.]]\n"
     ]
    }
   ],
   "source": [
    "#or\n",
    "print(np.multiply(matrix1,matrix1))"
   ]
  },
  {
   "cell_type": "markdown",
   "metadata": {},
   "source": [
    "## Gaussian Elimination\n",
    "\n",
    "To solve\n",
    "\\begin{eqnarray}\n",
    "a_{1,1}x_1+a_{1,2}x_{2}+...+a_{1,n}x_{n}=b_1\\\\\n",
    "a_{2,1}x_1+a_{2,2}x_{2}+...+a_{2,n}x_{n}=b_2\\\\\n",
    "...=...\\\\\n",
    "a_{n,1}x_{1}+a_{n,2}x_{2}+...+a_{n,n}x_{n}=b_{n}\n",
    "\\end{eqnarray}\n",
    "\n"
   ]
  },
  {
   "cell_type": "markdown",
   "metadata": {},
   "source": [
    "## How Gaussian elimination works\n",
    "\n",
    "Write an augmented matrix\n",
    "\n",
    "\\begin{bmatrix} a_{1,1} & a_{1,2} & ... &a_{1,n} &b_1 \\\\ \n",
    "          a_{2,1} & a_{2,2} & ... & a_{2,n} &b_2 \\\\\n",
    "          \\ddots & \\ddots & \\ddots\\\\  \n",
    "          a_{n,1} & a_{n,2} & ... & a_{n,n} &b_{n}\\end{bmatrix} \n",
    "\n",
    "\n",
    "On this matrix you may make exactly three operations:\n",
    "\n",
    "    Swap rows\n",
    "    Add one row onto another\n",
    "    Multiply every factor of one row with a constant\n",
    "\n",
    "You want to get a triangular matrix. So you subsequently eliminate one variable from the system of equations until you have a matrix like this:\n",
    "\n",
    "\\begin{bmatrix} \\alpha_{1,1} & \\alpha_{1,2} & ... &\\alpha_{1,n} &\\beta_1 \\\\ \n",
    "          0 & \\alpha_{2,2} & ... & \\alpha_{2,n} &\\beta_2 \\\\\n",
    "          \\ddots & \\ddots & \\ddots\\\\  \n",
    "          0 & 0 & ... & \\alpha_{n,n} &\\beta_{n}\\end{bmatrix} \n",
    "          \n",
    "How to do this:\n",
    "\n",
    "Step 1: Partial Pivoting: Search for maximum in the first column and swap the maximum row with current row (column by column)\n",
    "\n",
    "Step 2: Make all rows below this one 0 in the first column\n",
    "\n",
    "For every $i$, define $c=-a_{k,i}/a_{i,i}$ and $a'_{k,j}=a_{k,j}+c*a_{i,j}$ for $j\\geqslant i$\n",
    "\n",
    "Step 3: Get $x_{n}$ from the last equation, going all the way back to $x_{1}$"
   ]
  },
  {
   "cell_type": "code",
   "execution_count": 14,
   "metadata": {},
   "outputs": [],
   "source": [
    "\n",
    "\n",
    "def gauss(A):\n",
    "    n = len(A)\n",
    "\n",
    "    for i in range(0, n):\n",
    "        # Search for maximum in this column\n",
    "        maxEl = abs(A[i][i])\n",
    "        maxRow = i\n",
    "        for k in range(i+1, n):\n",
    "            if abs(A[k][i]) > maxEl:\n",
    "                maxEl = abs(A[k][i])\n",
    "                maxRow = k\n",
    "\n",
    "        # Swap maximum row with current row (column by column)\n",
    "        for k in range(i, n+1):\n",
    "            tmp = A[maxRow][k]\n",
    "            A[maxRow][k] = A[i][k]\n",
    "            A[i][k] = tmp\n",
    "\n",
    "        # Make all rows below this one 0 in current column\n",
    "        for k in range(i+1, n):\n",
    "            c = # write a code for c for the k row\n",
    "            for j in range(i, n+1):\n",
    "                if i == j:\n",
    "                    A[k][j] = 0\n",
    "                else:\n",
    "                    A[k][j] = # write a code for updating A_{k,j} for each element in this row\n",
    "\n",
    "    # Solve equation Ax=b for an upper triangular matrix A\n",
    "    x = [0 for i in range(n)]\n",
    "    for i in range(n-1, -1, -1):\n",
    "        x[i] = A[i][n]/A[i][i]\n",
    "        for k in range(i-1, -1, -1):\n",
    "            A[k][n] -= A[k][i] * x[i]\n",
    "    return x\n",
    "\n"
   ]
  },
  {
   "cell_type": "code",
   "execution_count": 15,
   "metadata": {},
   "outputs": [
    {
     "name": "stdout",
     "output_type": "stream",
     "text": [
      "[[ 9. 13.  5.  2.  7.]\n",
      " [ 1. 11.  7.  6.  8.]\n",
      " [ 3.  7.  4.  1.  9.]\n",
      " [ 6.  1.  7. 10. 10.]]\n",
      "[0.17297979797979737, -0.8768939393939387, 4.131944444444444, -1.9084595959595962]\n",
      "[ 0.00000000e+00  0.00000000e+00 -1.77635684e-15 -7.10542736e-15]\n"
     ]
    }
   ],
   "source": [
    "import numpy as np\n",
    "a=np.array([[9.,13.,5.,2.],[1.,11.,7.,6.],[3.,7.,4.,1.],[6.,1.,7.,10.]])\n",
    "b=np.array([7.,8.,9.,10.])\n",
    "aa=np.copy(a)    #deep copy of an array\n",
    "bb=np.copy(b) #deep copy of an array\n",
    "b=b[:,np.newaxis]\n",
    "A=np.append(a,b,axis=1)\n",
    "print(A)\n",
    "x = gauss(A)\n",
    "print(x)\n",
    "print(np.dot(aa,x)-bb)"
   ]
  },
  {
   "cell_type": "code",
   "execution_count": 49,
   "metadata": {},
   "outputs": [
    {
     "name": "stdout",
     "output_type": "stream",
     "text": [
      "x= [ 0.1729798  -0.87689394  4.13194444 -1.9084596 ]\n",
      "[-3.55271368e-15  0.00000000e+00  0.00000000e+00  0.00000000e+00]\n"
     ]
    }
   ],
   "source": [
    "import numpy as np\n",
    "a=np.array([[9.,13.,5.,2.],[1.,11.,7.,6.],[3.,7.,4.,1.],[6.,1.,7.,10.]])\n",
    "b=np.array([7.,8.,9.,10.])\n",
    "\n",
    "# Solve Ax=b directly\n",
    "x=np.linalg.solve(a,b)\n",
    "print('x=',x)\n",
    "print(np.dot(a,x)-b)"
   ]
  },
  {
   "cell_type": "markdown",
   "metadata": {},
   "source": [
    "### Why need partial pivoting?\n",
    "\n",
    "Here is an example. Assume two-digit rounding arithmetic.\n",
    "\\begin{eqnarray}\n",
    "0.0001𝑥+𝑦=3\\\\\n",
    "x+2y=5\n",
    "\\end{eqnarray}\n",
    "\n",
    "One step Gaussian elimination gives:\n",
    "\\begin{eqnarray}\n",
    "0.0001𝑥+𝑦=3\\\\\n",
    "−9998𝑦=−29995\n",
    "\\end{eqnarray}\n",
    "\n",
    "After rounding:\n",
    "\\begin{eqnarray}\n",
    "0.0001𝑥+𝑦=3\\\\\n",
    "−10000𝑦=−30000\n",
    "\\end{eqnarray}\n",
    "\n",
    "The solution is (0,3)\n",
    "after rounding, but the true solution is (−1.0002,3.0001). "
   ]
  },
  {
   "cell_type": "markdown",
   "metadata": {},
   "source": [
    "## Gauss-Seidel Iterative Method (Optional)\n",
    "\n",
    "Make a guess and do correction\n",
    "\n",
    "\\begin{eqnarray}\n",
    "a_{11}x_{1}+a_{12}x_{2}+...+a_{1n}x_{n}=b_{1}\\\\\n",
    "a_{21}x_{1}+a_{22}x_{2}+...+a_{2n}x_{n}=b_{2}\\\\\n",
    "...\\\\\n",
    "a_{n1}x_{1}+a_{n2}x_{2}+...+a_{nn}x_{n}=b_{n}\n",
    "\\end{eqnarray}\n",
    "\n",
    "We assume the diagonal elements $a_{jj}$ to be nonzero, or, we switch the equations to make them nonzero. We can rewrite it as\n",
    "\n",
    "\\begin{eqnarray}\n",
    "x_{1} = t_{1}+s_{12}x_{2}+...+s_{1n}x_{n}\\\\\n",
    "x_{2} = s_{21}x_{1}+t_{2}+...+s_{2n}x_{n}\\\\\n",
    "...\\\\\n",
    "x_{n} = s_{n1}x_{1}+s_{n2}x_{2}+...t_{n}\n",
    "\\end{eqnarray}\n",
    "So we can write it as the matrix form  \n",
    "$\\bf{x}$=S$\\bf{x}$+t  \n",
    "With initial guess $x^{(0)}=t$, we can build the solution using the recurrence relation  \n",
    "$\\bf{x^{(k)}}$=S$\\bf{x^{k-1}}$+t, k=1,2,...\n",
    "or\n",
    "\\begin{equation}\n",
    "x_{i}^{(k)}=\\sum_{j\\neq i}^{n}s_{ij}x_{j}^{(k-1)}+t_{i}\\qquad i=1,2,...,n\n",
    "\\end{equation}\n",
    "This is called Jacobi method. With a slight modification, we get a more efficient\n",
    "so-called Gauss-Seidel method:\n",
    "\\begin{equation}\n",
    "x_{i}^{(k)}=\\sum_{j=1}^{i-1}s_{ij}x_{j}^{(k)}+\\sum_{j=i+1}^{n}s_{ij}x_{j}^{(k-1)}+t_{i}\\qquad i=1,2,...,n\n",
    "\\end{equation}\n",
    "Use the most recently updated solution components $x_{i}^{k}$ instead of those from previous steps, as soon as they become available. \n",
    "\n",
    "The iteration stops when \n",
    "\\begin{equation}\n",
    "max_{i}|\\Delta_{i}^{(k)}/x_{i}^{k}|\\leq \\epsilon\n",
    "\\end{equation}\n",
    "\n",
    "Convergence: \n",
    "A must be strictly diagonally dominant \n",
    "\\begin{equation}\n",
    "|a_{ii}|>\\sum_{j\\neq i}|a_{ij}|,\\qquad i=1,2,...,n|\n",
    "\\end{equation}\n",
    "In reality, use\n",
    "\\begin{equation}\n",
    "|a_{ii}|>max_{j\\neq i}|a_{ij}|,\\qquad i=1,2,...,n|\n",
    "\\end{equation}\n",
    "There are situations that the solution won't converge.\n",
    "\n",
    "For normal system, having a symmetric positive-definite coefficient matrix,\n",
    "the Gauss-Seidel process is always converging. To make it a normal system\n",
    "\\begin{equation}\n",
    "A^{T}\\cdot A\\cdot x=A^{T}\\cdot b\n",
    "\\end{equation}"
   ]
  },
  {
   "cell_type": "code",
   "execution_count": null,
   "metadata": {},
   "outputs": [],
   "source": [
    "\n",
    "#============================================================================\n",
    "def GaussSeidel(a, b, x, n, init):\n",
    "# Copy right, code from Titus textbook. \n",
    "#----------------------------------------------------------------------------\n",
    "#  Solves linear system a x = b by the Gauss-Seidel method.\n",
    "#  Convergence is ensure by left-multiplying the system with a^T.\n",
    "#  a    - coefficient matrix (n x n)\n",
    "#  b    - vector of constant terms\n",
    "#  x    - initial approximation of solution (input); solution (output)\n",
    "#  n    - order of system\n",
    "#  err  - maximum relative error of the solution components\n",
    "#  init - initialization option: 0 - refines initial approximation \n",
    "#                                1 - initializes solution\n",
    "#----------------------------------------------------------------------------\n",
    "   eps = 1e-10                                 # relative precision criterion\n",
    "   itmax = 10000                                    # max no. of iterations\n",
    "\n",
    "   s = [[0]*(n) for i in range(n)]           # matrices of reduced system\n",
    "   t = [0]*(n)\n",
    "\n",
    "   for i in range(n):                         # matrices of normal system\n",
    "      for j in range(i+1):                      # by multiplication with aT\n",
    "         s[i][j] = 0e0                            # store result in s and t\n",
    "         for k in range(n): s[i][j] += a[k][i]*a[k][j]\n",
    "         s[j][i] = s[i][j]\n",
    "\n",
    "      t[i] = 0e0\n",
    "      for j in range(n): t[i] += a[j][i]*b[j]\n",
    "\n",
    "   for i in range(n):                # matrices s and t of reduced system\n",
    "      f = -1e0/s[i][i]; t[i] /= s[i][i]\n",
    "      for j in range(n): s[i][j] *= f\n",
    "\n",
    "   if (init):\n",
    "      for i in range(n): x[i] = t[i]                # initialize solution\n",
    "\n",
    "   for k in range(itmax):                            # loop of iterations\n",
    "      err = 0e0\n",
    "      for i in range(n):\n",
    "         delta = t[i]                                            # correction\n",
    "         for j in range(n): delta += s[i][j]*x[j]\n",
    "         x[i] += delta                        # new approximation to solution\n",
    "         if (x[i]): delta /= x[i]                            # relative error\n",
    "         if (np.fabs(delta) > err): err = np.fabs(delta)            # maximum error\n",
    "       #  print('delta,err',delta,err)\n",
    "            \n",
    "      if (err <= eps): break                              # check convergence\n",
    "\n",
    "   if (k > itmax-2): print(\"GaussSeidel: max. no. of iterations exceeded !\")\n",
    "\n",
    "   return err"
   ]
  },
  {
   "cell_type": "code",
   "execution_count": null,
   "metadata": {},
   "outputs": [],
   "source": [
    "import numpy as np\n",
    "a=np.array([[9.,13.,5.,2.],[1.,11.,7.,6.],[3.,7.,4.,1.],[6.,1.,7.,10.]])\n",
    "b=np.array([7.,8.,9.,10.])\n",
    "x=np.array([1.,1.,1.,1.])\n",
    "\n",
    "GaussSeidel(a, b, x, 4, 1)\n",
    "print('x=',x)\n",
    "print(np.dot(a,x)-b)"
   ]
  },
  {
   "cell_type": "markdown",
   "metadata": {},
   "source": [
    "## Use NumPy's linalg Package\n",
    "\n",
    "### Solve A$\\bf{x}$=$\\bf{b}$"
   ]
  },
  {
   "cell_type": "code",
   "execution_count": 1,
   "metadata": {},
   "outputs": [
    {
     "name": "stdout",
     "output_type": "stream",
     "text": [
      "[[  1.   2.   3.]\n",
      " [ 22.  32.  42.]\n",
      " [ 55.  66. 100.]] [1. 2. 3.]\n"
     ]
    }
   ],
   "source": [
    "import numpy as np\n",
    "A= np.array([[1.,2.,3.],[22.,32.,42],[55.,66.,100.]])\n",
    "b = np.array([1.,2.,3.])\n",
    "print(A,b)"
   ]
  },
  {
   "cell_type": "code",
   "execution_count": 2,
   "metadata": {},
   "outputs": [
    {
     "name": "stdout",
     "output_type": "stream",
     "text": [
      "x= [-1.4057971  -0.1884058   0.92753623]\n",
      "Residual=  [2.22044605e-16 0.00000000e+00 0.00000000e+00]\n"
     ]
    }
   ],
   "source": [
    "# Solve Ax=b directly\n",
    "x=np.linalg.solve(A,b)\n",
    "print('x=',x)\n",
    "print('Residual= ',np.dot(A,x)-b)"
   ]
  },
  {
   "cell_type": "code",
   "execution_count": 3,
   "metadata": {},
   "outputs": [
    {
     "name": "stdout",
     "output_type": "stream",
     "text": [
      "[-1.4057971  -0.1884058   0.92753623]\n"
     ]
    }
   ],
   "source": [
    "# Solve Ax=b using the inversion of A\n",
    "B=np.linalg.inv(A)\n",
    "print(np.dot(B,b))"
   ]
  },
  {
   "cell_type": "code",
   "execution_count": 4,
   "metadata": {},
   "outputs": [
    {
     "name": "stdout",
     "output_type": "stream",
     "text": [
      "x= [-1.4057971  -0.1884058   0.92753623]\n",
      "Residual=  [0. 0. 0.]\n"
     ]
    }
   ],
   "source": [
    "print('x=', np.dot(B,b))\n",
    "print('Residual= ',np.dot(A,np.dot(B,b))-b)"
   ]
  },
  {
   "cell_type": "markdown",
   "metadata": {},
   "source": [
    "## Back to the two balls on string problem"
   ]
  },
  {
   "cell_type": "code",
   "execution_count": 7,
   "metadata": {
    "scrolled": false
   },
   "outputs": [
    {
     "data": {
      "text/html": [
       "<div id=\"glowscript\" class=\"glowscript\"></div>"
      ],
      "text/plain": [
       "<IPython.core.display.HTML object>"
      ]
     },
     "metadata": {},
     "output_type": "display_data"
    },
    {
     "data": {
      "application/javascript": [
       "window.__context = { glowscript_container: $(\"#glowscript\").removeAttr(\"id\")}"
      ],
      "text/plain": [
       "<IPython.core.display.Javascript object>"
      ]
     },
     "metadata": {},
     "output_type": "display_data"
    },
    {
     "name": "stdout",
     "output_type": "stream",
     "text": [
      "Number of iterations =  8 \n",
      " Final Solution:\n",
      "x[ 0 ] =   0.7610026986802356\n",
      "x[ 1 ] =   0.26495380629721876\n",
      "x[ 2 ] =   0.8357058303073955\n",
      "x[ 3 ] =   0.6487487163497032\n",
      "x[ 4 ] =   0.9642611069149696\n",
      "x[ 5 ] =   0.5491773558227531\n",
      "x[ 6 ] =   17.1602096454316\n",
      "x[ 7 ] =   11.545279619176393\n",
      "x[ 8 ] =   20.27157798931466\n"
     ]
    }
   ],
   "source": [
    "\"\"\" From \"COMPUTATIONAL PHYSICS\", 3rd Ed, Enlarged Python eTextBook  \n",
    "    by RH Landau, MJ Paez, and CC Bordeianu\n",
    "    Copyright Wiley-VCH Verlag GmbH & Co. KGaA, Berlin;  Copyright R Landau,\n",
    "    Oregon State Unv, MJ Paez, Univ Antioquia, C Bordeianu, Univ Bucharest, 2015.\n",
    "    Support by National Science Foundation\"\"\"\n",
    "\n",
    "# NewtonNDanimate.py:      MultiDimension Newton Search\n",
    "from numpy import *\n",
    "from vpython import *\n",
    "from numpy.linalg import solve\n",
    "\n",
    "\n",
    "scene = canvas(title='String and masses configuration',\n",
    "     width=500, height=500) # set the camera\n",
    "\n",
    "tempe = curve(x=range(0,500),color=color.black)\n",
    "\n",
    "n = 9\n",
    "eps = 1e-3\n",
    "deriv = zeros( (n, n), float)\n",
    "f = zeros( (n), float)\n",
    "x = array([0.5, 0.5, 0.5, 0.5, 0.5, 0.5, 0.5, 1., 1., 1.])\n",
    "\n",
    "def plotconfig():\n",
    "    for obj in scene.objects:\n",
    "        obj.visible=0                  # Erase previous configuration\n",
    "    L1 = 3.0\n",
    "    L2 = 4.0\n",
    "    L3 = 4.0\n",
    "    xa = L1*x[3]                # L1*cos(th1)\n",
    "    ya = L1*x[0]                # L1 sin(th1)\n",
    "    xb = xa+L2*x[4]             # L1*cos(th1)+L2*cos(th2)\n",
    "    yb = ya+L2*x[1]             # L1*sin(th1)+L2*sen(th2)\n",
    "    xc = xb+L3*x[5]             # L1*cos(th1)+L2*cos(th2)+L3*cos(th3)\n",
    "    yc = yb-L3*x[2]             # L1*sin(th1)+L2*sen(th2)-L3*sin(th3)\n",
    "    mx = 100.0                  # for linear coordinate transformation\n",
    "    bx = -500.0                 # from 0=< x =<10\n",
    "    my = -100.0                 # to    -500 =<x_window=>500\n",
    "    by = 400.0                  # same transformation for y\n",
    "    xap = mx*xa+bx              # to keep aspect ratio\n",
    "    yap = my*ya+by\n",
    "    ball1 = sphere(pos=vector(xap,yap,0), color=color.cyan,radius=15) \n",
    "    xbp = mx*xb+bx\n",
    "    ybp = my*yb+by\n",
    "    ball2 = sphere(pos=vector(xbp,ybp,0), color=color.cyan,radius=25) \n",
    "    xcp = mx*xc+bx\n",
    "    ycp = my*yc+by\n",
    "    x0 = mx*0+bx\n",
    "    y0 = my*0+by\n",
    "    line1 = curve(pos=[vector(x0,y0,0),vector(xap,yap,0)], color=color.yellow,radius=4)\n",
    "    line2 = curve(pos=[vector(xap,yap,0),vector(xbp,ybp,0)], color=color.yellow,radius=4)\n",
    "    line3 = curve(pos=[vector(xbp,ybp,0),vector(xcp,ycp,0)], color=color.yellow,radius=4)\n",
    "    topline = curve(pos=[vector(x0,y0,0),vector(xcp,ycp,0)], color=color.red,radius=4)\n",
    "\n",
    "def F(x, f):                                       # F function\n",
    "    f[0] = 3*x[3]  +  4*x[4]  +  4*x[5]  -  8.0\n",
    "    f[1] = 3*x[0]  +  4*x[1]  -  4*x[2]\n",
    "    f[2] = x[6]*x[0]  -  x[7]*x[1]  -  10.0\n",
    "    f[3] = x[6]*x[3]  -  x[7]*x[4]\n",
    "    f[4] = x[7]*x[1]  +  x[8]*x[2]  -  20.0\n",
    "    f[5] = x[7]*x[4]  -  x[8]*x[5]\n",
    "    f[6] = pow(x[0], 2)  +  pow(x[3], 2)  -  1.0\n",
    "    f[7] = pow(x[1], 2)  +  pow(x[4], 2)  -  1.0\n",
    "    f[8] = pow(x[2], 2)  +  pow(x[5], 2)  -  1.0\n",
    "    \n",
    "def dFi_dXj(x, deriv, n):                           # Derivatives\n",
    "    h = 1e-4                                             \n",
    "    for j in range(0, n):\n",
    "         temp = x[j]\n",
    "         x[j] = x[j] +  h/2.\n",
    "         F(x, f)                                                 \n",
    "         for i in range(0, n):  deriv[i, j] = f[i] \n",
    "         x[j] = temp\n",
    "    for j in range(0, n):\n",
    "         temp = x[j]\n",
    "         x[j] = x[j] - h/2.\n",
    "         F(x, f)\n",
    "         for i in range(0, n): deriv[i, j] = (deriv[i, j] - f[i])/h\n",
    "         x[j] = temp\n",
    "         \n",
    "for it in range(1, 100):\n",
    "      rate(1)                            # 1 second between graphs\n",
    "      F(x, f)                              \n",
    "      dFi_dXj(x, deriv, n)   \n",
    "      B = array([[-f[0]], [-f[1]], [-f[2]], [-f[3]], [-f[4]], [-f[5]],\\\n",
    "\t\t\t[-f[6]], [-f[7]], [-f[8]]])      \n",
    "      sol = solve(deriv, B)\n",
    "      dx = sol#take(sol, (0, ), 1)               # First column of sol\n",
    "      for i in range(0, n):\n",
    "        x[i]  = x[i]  +  dx[i]\n",
    "      plotconfig()\n",
    "      errX = errF = errXi = 0.0\n",
    "      endi=0\n",
    "      for i in range(0, n):\n",
    "        if ( x[i] !=  0.): errXi = abs(dx[i]/x[i])\n",
    "        else:  errXi = abs(dx[i])\n",
    "        if ( errXi > errX): errX = errXi                            \n",
    "        if ( abs(f[i]) > errF ):  errF = abs(f[i])        \n",
    "        if ( (errX <=  eps) and (errF <=  eps) ): endi=1\n",
    "      if(endi==1): break  \n",
    "      \n",
    "print('Number of iterations = ', it, \"\\n Final Solution:\")\n",
    "for i in range(0, n):\n",
    "        print('x[', i, '] =  ', x[i])"
   ]
  },
  {
   "cell_type": "markdown",
   "metadata": {},
   "source": [
    "\n",
    "\n",
    "\n",
    "## 2)  Solve the eigenvalue problem (Optional)\n",
    "\\begin{equation}\n",
    "A\\bf{x}=\\lambda\\bf{x}\n",
    "\\end{equation}\n",
    "where $\\bf{x}$ is an unknown vector and $\\lambda$ is an unknown parameter. Using the above method won't work since we have unknowns on both sides of the equation.\n",
    "\n",
    "This is harder to solve, since the solution only exists for certain, if any, values of $\\lambda$. We manipulate the equation\n",
    "\\begin{equation}\n",
    "[A-\\lambda I]\\bf{x}=0\n",
    "\\end{equation}\n",
    "If $[A-\\lambda I]^{-1}$ exists, it leads to the trivial solution $\\bf{x}=0$. The inverse of $[A-\\lambda I]$ fails to exists if \n",
    "\\begin{equation}\n",
    "det[A-\\lambda I]=0\n",
    "\\end{equation}\n",
    "The $\\lambda$ values satisfie this equation are the eigenvalues.  If you are only interested in eigenvalues, you need to calculate the determinant first and search $\\lambda$ to make the equation equal 0.  \n",
    "\n",
    "The traditional way to solve both the eigenvalues and the eigenvectors is diagonalization. Gradually change A to a diagonal \n",
    "\\begin{equation}\n",
    "UAU^{-1}=\\begin{bmatrix} \\lambda^{'}_{1} & 0 & ... &0 \\\\ 0 & \\lambda^{'}_{2} & ... & 0 \\\\ 0 & 0 & \\lambda^{'}_{3} & ... \\\\ 0 & ... &0 &\\lambda^{'}_{N} \\end{bmatrix}\n",
    "\\end{equation}\n",
    "\\begin{equation}\n",
    "UA(U^{-1}U)\\bf{x}=\\lambda U\\bf{x}\n",
    "\\end{equation}\n",
    "\\begin{equation}\n",
    "\\begin{bmatrix} \\lambda^{'}_{1} & 0 & ... &0 \\\\ 0 & \\lambda^{'}_{2} & ... & 0 \\\\ 0 & 0 & \\lambda^{'}_{3} & ... \\\\ 0 & ... &0 &\\lambda^{'}_{N} \\end{bmatrix} U\\bf{x} = \\lambda U\\bf{x}\n",
    "\\end{equation}\n",
    "The first eigenvalue is $\\lambda^{'}_{1}$ and the first eigenvector (U$\\bf{x}$) is $(1,0,...)$, ...  \n",
    "So $\\bf{x}$ is $U^{-1}\\hat{e_{1}}$. Overal the eigenvalues are $\\lambda^{'}_{i}$ and the eigenvectors are \n",
    "\\begin{equation}\n",
    "\\bf{x_{i}}=U^{-1}\\hat{e_{i}}\n",
    "\\end{equation}\n",
    "That is the eigenvectors are the columns of the matrix $U^{-1}$"
   ]
  },
  {
   "cell_type": "markdown",
   "metadata": {},
   "source": [
    "### Solve eigenvalue problem"
   ]
  },
  {
   "cell_type": "code",
   "execution_count": 3,
   "metadata": {},
   "outputs": [
    {
     "name": "stdout",
     "output_type": "stream",
     "text": [
      "[[ 0.66666667 -0.25      ]\n",
      " [-0.25        0.66666667]]\n",
      "Eigenvalues [0.91666667 0.41666667] \n",
      " Eigenmatrix [[ 0.70710678  0.70710678]\n",
      " [-0.70710678  0.70710678]]\n",
      "Eigenvector [ 0.70710678 -0.70710678] [0.70710678 0.70710678]\n"
     ]
    }
   ],
   "source": [
    "import numpy as np\n",
    "I=np.array([[2./3.,-1./4.],[-1./4.,2./3.]])\n",
    "print(I)\n",
    "eigenvalues, eigenmatrix = np.linalg.eig(I)\n",
    "print('Eigenvalues', eigenvalues, '\\n Eigenmatrix', eigenmatrix)\n",
    "print('Eigenvector',eigenmatrix[:,0],eigenmatrix[:,1])"
   ]
  },
  {
   "cell_type": "code",
   "execution_count": 4,
   "metadata": {
    "scrolled": true
   },
   "outputs": [
    {
     "name": "stdout",
     "output_type": "stream",
     "text": [
      "LHS-RHS [ 1.11022302e-16 -1.11022302e-16]\n",
      "[ 0.70710678 -0.70710678]\n",
      "[ 0.70710678 -0.70710678]\n"
     ]
    }
   ],
   "source": [
    "eigenvector1=np.array([eigenmatrix[0,0],eigenmatrix[1,0]])\n",
    "LHS = np.dot(I,eigenvector1)\n",
    "RHS = eigenvector1*eigenvalues[0]\n",
    "print('LHS-RHS',LHS-RHS)\n",
    "\n",
    "print(eigenvector1)\n",
    "# an easier way to get the first coloumn\n",
    "print(eigenmatrix[:,0])"
   ]
  },
  {
   "cell_type": "markdown",
   "metadata": {},
   "source": []
  }
 ],
 "metadata": {
  "kernelspec": {
   "display_name": "Python 3",
   "language": "python",
   "name": "python3"
  },
  "language_info": {
   "codemirror_mode": {
    "name": "ipython",
    "version": 3
   },
   "file_extension": ".py",
   "mimetype": "text/x-python",
   "name": "python",
   "nbconvert_exporter": "python",
   "pygments_lexer": "ipython3",
   "version": "3.8.3"
  }
 },
 "nbformat": 4,
 "nbformat_minor": 2
}
